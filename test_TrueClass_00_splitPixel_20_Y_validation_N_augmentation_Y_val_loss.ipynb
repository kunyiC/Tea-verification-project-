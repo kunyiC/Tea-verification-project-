{
 "cells": [
  {
   "cell_type": "code",
   "execution_count": 1,
   "metadata": {},
   "outputs": [],
   "source": [
    "import os\n",
    "os.environ[\"CUDA_DEVICE_ORDER\"]=\"PCI_BUS_ID\"\n",
    "os.environ[\"CUDA_VISIBLE_DEVICES\"]=\"2\""
   ]
  },
  {
   "cell_type": "code",
   "execution_count": 2,
   "metadata": {},
   "outputs": [
    {
     "name": "stderr",
     "output_type": "stream",
     "text": [
      "Using TensorFlow backend.\n"
     ]
    }
   ],
   "source": [
    "import warnings\n",
    "warnings.simplefilter(action=\"ignore\", category=FutureWarning)\n",
    "import os, os.path\n",
    "from keras.utils import plot_model\n",
    "from tensorflow.python.keras.layers import Input, Flatten, Dense, concatenate,  Dropout\n",
    "from tensorflow.python.keras.layers.normalization import BatchNormalization\n",
    "from tensorflow.python.keras.layers.convolutional import Conv2D\n",
    "from tensorflow.python.keras.layers.convolutional import MaxPooling2D\n",
    "from tensorflow.python.keras.layers.core import Activation\n",
    "from tensorflow.python.keras.models import Model, load_model, Sequential\n",
    "from tensorflow.python.keras.optimizers import Adam\n",
    "from tensorflow.python.keras.callbacks import ModelCheckpoint\n",
    "from tensorflow.python.ops import array_ops\n",
    "from tensorflow.python.ops import math_ops\n",
    "from tensorflow.python.framework import dtypes\n",
    "import tensorflow as tf\n",
    "import matplotlib.pyplot as plt, numpy as np\n",
    "from sklearn.decomposition import PCA\n",
    "from tensorflow.python.keras import backend as K\n",
    "import keras.backend.tensorflow_backend as ktf\n",
    "from glob import glob\n",
    "from PIL import Image\n",
    "import time\n",
    "from sklearn.model_selection import train_test_split\n",
    "from sklearn.metrics import accuracy_score\n",
    "from keras import regularizers\n",
    "import scipy.io as sio\n",
    "import xgboost as xgb\n",
    "from xgboost import plot_importance\n",
    "import time\n",
    "import pickle\n",
    "from sklearn.metrics import mean_squared_error\n",
    "from xgboost import XGBClassifier\n",
    "from random import uniform as rdm\n",
    "from skimage import transform\n",
    "import imageio\n",
    "import random\n",
    "import shutil\n",
    "import argparse\n",
    "import collections\n",
    "import matplotlib.pyplot as plt\n",
    "import pandas as pd\n",
    "%matplotlib inline"
   ]
  },
  {
   "cell_type": "code",
   "execution_count": 3,
   "metadata": {},
   "outputs": [],
   "source": [
    "picSize=224"
   ]
  },
  {
   "cell_type": "code",
   "execution_count": 4,
   "metadata": {},
   "outputs": [],
   "source": [
    "def transfer(image):\n",
    "    dat = image.copy()\n",
    "    min_max = []  # range of channls\n",
    "    h, w, c = dat.shape\n",
    "    for i in range(c):\n",
    "        min_d, max_d = (np.min(dat[:, :, i]), np.max(dat[:, :, i]))\n",
    "        min_max.append((min_d, max_d))\n",
    "        zone = max_d - min_d\n",
    "        if zone < 0.1:\n",
    "            zone = 0.1\n",
    "        dat[:, :, i] = 1.0 * (dat[:, :, i] - min_d) / zone * 255\n",
    "    dat = dat.astype('uint8')\n",
    "    return dat, min_max\n",
    "\n",
    "def re_transfer(image, min_max):\n",
    "    dat0 = image.copy()\n",
    "    dat0 = dat0.astype('float16')\n",
    "    h, w, c = dat0.shape\n",
    "    for i in range(c):\n",
    "        min_d, max_d = min_max[i]\n",
    "        min_now, max_now = (np.min(dat0[:, :, i]), np.max(dat0[:, :, i]))\n",
    "        zone = (max_now - min_now)\n",
    "        if zone < 0.1:\n",
    "            zone = 0.1\n",
    "        dat0[:, :, i] = 1.0 * (dat0[:, :, i] - min_now) / zone * (max_d - min_d) + min_d\n",
    "    return dat0\n",
    "\n",
    "def resize(dat1,sz):\n",
    "    image, min_max = transfer(dat1)\n",
    "    image = Image.fromarray(image)\n",
    "    image = image.resize(sz)\n",
    "    image = np.array(image)\n",
    "    image = re_transfer(image, min_max)\n",
    "    return image"
   ]
  },
  {
   "cell_type": "code",
   "execution_count": 5,
   "metadata": {},
   "outputs": [],
   "source": [
    "def get_data(p, nd, train_dir, anchor_class, test_class):    \n",
    "    jpgdata = glob(os.path.join(train_dir + str(p)+\"/\", \"*.jpg\"))\n",
    "    jpgdata = np.sort(jpgdata)\n",
    "    st=0\n",
    "    x0 = np.zeros((len(range(st,nd,1)), picSize, picSize, 1),dtype='float16')\n",
    "    if anchor_class == test_class:\n",
    "        y0 = np.ones((len(range(st,nd,1)),),dtype='uint8')*0\n",
    "    if anchor_class != test_class:\n",
    "        y0 = np.ones((len(range(st,nd,1)),),dtype='uint8')*1\n",
    "    k=-1\n",
    "    li = [i for i in range(jpgdata.size)]\n",
    "    j=random.sample(li,nd)    \n",
    "    for i in range(st,nd,1):\n",
    "        image = Image.open(jpgdata[j[i]]) \n",
    "        image = np.asarray(image) / 255.0\n",
    "        a=image\n",
    "        b=a.reshape((picSize,picSize,1))\n",
    "        k=k+1\n",
    "        x0[k] = b\n",
    "    return x0.astype('float16'),y0.astype('uint8')"
   ]
  },
  {
   "cell_type": "code",
   "execution_count": 6,
   "metadata": {},
   "outputs": [],
   "source": [
    "from itertools import groupby\n",
    "\n",
    "def get_prediction(mN, p, anchor_class, test_class, saved_txt_name, splitted_img_dir, testSetDir, hasSplitData):    \n",
    "    print(\"Test class:\",str(test_class), \"; Anchor class:\", str(anchor_class))\n",
    "    if hasSplitData == False:\n",
    "        print(\"please split your images into sub-images!\")\n",
    "    if hasSplitData == True:\n",
    "        num_of_img = len([name for name in os.listdir(splitted_img_dir+str(p)+\"/\") if os.path.isfile(os.path.join(splitted_img_dir+str(p)+\"/\", name))])\n",
    "        print('num_of_img:',num_of_img)    \n",
    "    x_train,y_train = get_data(p, num_of_img, splitted_img_dir, anchor_class, test_class)        \n",
    "    model2 = load_model(\"tripOst_\"+str(mN)+\".h5\", compile=False)\n",
    "    x_train_embeddings = model2.predict(np.reshape(x_train, (len(x_train), picSize, picSize, 1)))\n",
    "    x_train_emb = np.array(x_train_embeddings)\n",
    "    dtrain = xgb.DMatrix(x_train_emb, np.array(y_train))\n",
    "    model4 = xgb.Booster({'nthread':4}) # init model\n",
    "    model4.load_model(\"Trmodel_\"+str(mN)+\".model\")  \n",
    "    \n",
    "    preds = model4.predict(dtrain)\n",
    "    np.savetxt(saved_txt_name, preds, delimiter=\",\")\n",
    "    pred_2 = np.loadtxt(saved_txt_name) \n",
    "        \n",
    "    #element_counter = collections.Counter(pred_2)\n",
    "    #print(element_counter)\n",
    "    #key_list, value_list = element_counter.keys(), element_counter.values()\n",
    "\n",
    "    predict_dict = {value: len(list(freq)) for value, freq in groupby(sorted(pred_2))}\n",
    "    print(predict_dict)\n",
    "    \n",
    "    ##check whether the key (anchor_class) is in the dictionary (predict_dict)\n",
    "    if anchor_class in predict_dict: \n",
    "        anchor_count = predict_dict[anchor_class]\n",
    "        prediction_accuracy = (anchor_count/num_of_img)*100\n",
    "        print(\"How confident this image belongs to class {0}: {1:.2f}%\".format(anchor_class, prediction_accuracy))\n",
    "        residual_rate = 100 - prediction_accuracy\n",
    "        print(\"Residual rate = {0:.2f}%\".format(residual_rate))\n",
    "    else:\n",
    "        prediction_accuracy = 0\n",
    "        residual_rate = 100\n",
    "        print(\"How confident this image belongs to class {0}: {1:.2f}%\".format(anchor_class, prediction_accuracy))\n",
    "        print(\"Residual rate = {0:.2f}%\".format(residual_rate))\n",
    "    return prediction_accuracy, residual_rate"
   ]
  },
  {
   "cell_type": "code",
   "execution_count": 7,
   "metadata": {},
   "outputs": [],
   "source": [
    "def save_list(saved_txt_name, list_content):\n",
    "    np.savetxt(saved_txt_name, list_content, delimiter=\",\")"
   ]
  },
  {
   "cell_type": "code",
   "execution_count": 8,
   "metadata": {},
   "outputs": [],
   "source": [
    "def get_acc_and_residual(splitted_img_dir, testSetDir, mN, anchor_class, test_class, img_num_of_each_class):\n",
    "    prediction_accuracy_list = []\n",
    "    residual_rate_list = []\n",
    "    for p in range(1, img_num_of_each_class+1):\n",
    "        saved_txt_name = \"predictClass_{}-{}_trueClass_{}.txt\".format(test_class, p, anchor_class)\n",
    "        predAcc, resiRate = get_prediction(mN, p, anchor_class, test_class, \n",
    "                                           saved_txt_name, splitted_img_dir, testSetDir, True)\n",
    "        print(\"\")\n",
    "        prediction_accuracy_list.append(predAcc)\n",
    "        residual_rate_list.append(resiRate)\n",
    "    print('Positive_list:', prediction_accuracy_list, '\\n')\n",
    "    print('Negative_list:', residual_rate_list)\n",
    "    save_list('predictAcc_Positive_PredClass_{}_TrueClass_{}.txt'.format(test_class, anchor_class), prediction_accuracy_list)\n",
    "    save_list('predictAcc_Negative_PredClass_{}_TrueClass_{}.txt'.format(test_class, anchor_class), residual_rate_list)\n",
    "    return prediction_accuracy_list, residual_rate_list"
   ]
  },
  {
   "cell_type": "code",
   "execution_count": 9,
   "metadata": {},
   "outputs": [],
   "source": [
    "def plot_the_results(prediction_accuracy_list, residual_rate_list, anchor_class, test_class):\n",
    "    plt.plot(prediction_accuracy_list, 'ro', label='Positive')\n",
    "    plt.plot(residual_rate_list, 'bo', label='Negative')\n",
    "    plt.title('Predict Class: {}, True Class: {}'.format(test_class, anchor_class))\n",
    "    plt.xlabel('Image order', fontsize=12)\n",
    "    plt.ylabel('Voting score percentage', fontsize=12)\n",
    "    plt.legend()\n",
    "    plt.show()"
   ]
  },
  {
   "cell_type": "code",
   "execution_count": 10,
   "metadata": {},
   "outputs": [],
   "source": [
    "from scipy.stats import ttest_ind\n",
    "def welch_t_test(prediction_accuracy_list, residual_rate_list):\n",
    "    statistic, pvalue = ttest_ind(prediction_accuracy_list, residual_rate_list)\n",
    "    print('Statistics = %.10f' % (statistic))\n",
    "    print('p value = %.5f' % (pvalue))"
   ]
  },
  {
   "cell_type": "markdown",
   "metadata": {},
   "source": [
    "## True class = 0, Test class = 0"
   ]
  },
  {
   "cell_type": "code",
   "execution_count": 11,
   "metadata": {
    "scrolled": true
   },
   "outputs": [
    {
     "name": "stdout",
     "output_type": "stream",
     "text": [
      "Test class: 0 ; Anchor class: 0\n",
      "num_of_img: 3026\n",
      "WARNING:tensorflow:From /home/ben/anaconda3/lib/python3.7/site-packages/tensorflow_core/python/ops/resource_variable_ops.py:1630: calling BaseResourceVariable.__init__ (from tensorflow.python.ops.resource_variable_ops) with constraint is deprecated and will be removed in a future version.\n",
      "Instructions for updating:\n",
      "If using Keras pass *_constraint arguments to layers.\n",
      "{0.0: 1765, 1.0: 755, 2.0: 310, 3.0: 13, 4.0: 152, 5.0: 31}\n",
      "How confident this image belongs to class 0: 58.33%\n",
      "Residual rate = 41.67%\n",
      "\n",
      "Test class: 0 ; Anchor class: 0\n",
      "num_of_img: 3026\n",
      "{0.0: 2709, 1.0: 113, 2.0: 69, 3.0: 4, 4.0: 128, 5.0: 3}\n",
      "How confident this image belongs to class 0: 89.52%\n",
      "Residual rate = 10.48%\n",
      "\n",
      "Test class: 0 ; Anchor class: 0\n",
      "num_of_img: 3026\n",
      "{0.0: 2702, 1.0: 272, 2.0: 34, 3.0: 4, 4.0: 14}\n",
      "How confident this image belongs to class 0: 89.29%\n",
      "Residual rate = 10.71%\n",
      "\n",
      "Test class: 0 ; Anchor class: 0\n",
      "num_of_img: 3026\n",
      "{0.0: 2957, 1.0: 37, 2.0: 14, 3.0: 6, 4.0: 12}\n",
      "How confident this image belongs to class 0: 97.72%\n",
      "Residual rate = 2.28%\n",
      "\n",
      "Test class: 0 ; Anchor class: 0\n",
      "num_of_img: 3026\n",
      "{0.0: 2689, 1.0: 134, 2.0: 180, 3.0: 12, 4.0: 6, 5.0: 5}\n",
      "How confident this image belongs to class 0: 88.86%\n",
      "Residual rate = 11.14%\n",
      "\n",
      "Test class: 0 ; Anchor class: 0\n",
      "num_of_img: 3026\n",
      "{0.0: 2655, 1.0: 5, 2.0: 89, 3.0: 241, 4.0: 35, 5.0: 1}\n",
      "How confident this image belongs to class 0: 87.74%\n",
      "Residual rate = 12.26%\n",
      "\n",
      "Positive_list: [58.32782551222736, 89.52412425644415, 89.29279576999339, 97.71976206212823, 88.8631857237277, 87.73959021810973] \n",
      "\n",
      "Negative_list: [41.67217448777264, 10.475875743555846, 10.70720423000661, 2.2802379378717745, 11.136814276272304, 12.260409781890274]\n"
     ]
    }
   ],
   "source": [
    "splitted_img_dir = '/raid/home/ben/_kunyi/triplet_net/tea_3/tea_image_datasets/13_tea_classes_splittedImgs/13_tea_classes_V4_iphoneFormat_onlyOolongTea_trainValTest/test_oneImg_to_oneFolder/class_0/'\n",
    "mN = 0\n",
    "anchor_class = 0\n",
    "test_class = 0\n",
    "prediction_accuracy_list_00, residual_rate_list_00 = get_acc_and_residual(splitted_img_dir, None, \n",
    "                                                                          mN, anchor_class, test_class, 6)"
   ]
  },
  {
   "cell_type": "code",
   "execution_count": 12,
   "metadata": {
    "scrolled": true
   },
   "outputs": [
    {
     "data": {
      "image/png": "[encoded data removed]",
      "text/plain": [
       "<Figure size 432x288 with 1 Axes>"
      ]
     },
     "metadata": {
      "needs_background": "light"
     },
     "output_type": "display_data"
    },
    {
     "name": "stdout",
     "output_type": "stream",
     "text": [
      "Statistics = 8.9321508838\n",
      "p value = 0.00000\n"
     ]
    }
   ],
   "source": [
    "plot_the_results(prediction_accuracy_list_00, residual_rate_list_00, anchor_class, test_class)\n",
    "welch_t_test(prediction_accuracy_list_00, residual_rate_list_00)"
   ]
  },
  {
   "cell_type": "markdown",
   "metadata": {},
   "source": [
    "## True class = 0, Test class = 1"
   ]
  },
  {
   "cell_type": "code",
   "execution_count": 13,
   "metadata": {
    "scrolled": true
   },
   "outputs": [
    {
     "name": "stdout",
     "output_type": "stream",
     "text": [
      "Test class: 1 ; Anchor class: 0\n",
      "num_of_img: 3026\n",
      "{0.0: 1076, 1.0: 1946, 2.0: 2, 3.0: 1, 4.0: 1}\n",
      "How confident this image belongs to class 0: 35.56%\n",
      "Residual rate = 64.44%\n",
      "\n",
      "Test class: 1 ; Anchor class: 0\n",
      "num_of_img: 3026\n",
      "{0.0: 747, 1.0: 2198, 2.0: 80, 3.0: 1}\n",
      "How confident this image belongs to class 0: 24.69%\n",
      "Residual rate = 75.31%\n",
      "\n",
      "Test class: 1 ; Anchor class: 0\n",
      "num_of_img: 3026\n",
      "{0.0: 202, 1.0: 2309, 2.0: 463, 3.0: 1, 4.0: 10, 5.0: 41}\n",
      "How confident this image belongs to class 0: 6.68%\n",
      "Residual rate = 93.32%\n",
      "\n",
      "Test class: 1 ; Anchor class: 0\n",
      "num_of_img: 3026\n",
      "{0.0: 402, 1.0: 2501, 2.0: 120, 4.0: 2, 5.0: 1}\n",
      "How confident this image belongs to class 0: 13.28%\n",
      "Residual rate = 86.72%\n",
      "\n",
      "Test class: 1 ; Anchor class: 0\n",
      "num_of_img: 3026\n",
      "{0.0: 850, 1.0: 2048, 2.0: 125, 4.0: 2, 5.0: 1}\n",
      "How confident this image belongs to class 0: 28.09%\n",
      "Residual rate = 71.91%\n",
      "\n",
      "Test class: 1 ; Anchor class: 0\n",
      "num_of_img: 3026\n",
      "{0.0: 364, 1.0: 2146, 2.0: 435, 3.0: 1, 4.0: 10, 5.0: 70}\n",
      "How confident this image belongs to class 0: 12.03%\n",
      "Residual rate = 87.97%\n",
      "\n",
      "Positive_list: [35.55849306014541, 24.686054196959685, 6.67547918043622, 13.284864507600794, 28.08988764044944, 12.029081295439523] \n",
      "\n",
      "Negative_list: [64.44150693985459, 75.31394580304031, 93.32452081956379, 86.71513549239921, 71.91011235955057, 87.97091870456048]\n"
     ]
    }
   ],
   "source": [
    "splitted_img_dir = '/raid/home/ben/_kunyi/triplet_net/tea_3/tea_image_datasets/13_tea_classes_splittedImgs/13_tea_classes_V4_iphoneFormat_onlyOolongTea_trainValTest/test_oneImg_to_oneFolder/class_1/'\n",
    "test_class = 1\n",
    "prediction_accuracy_list_01, residual_rate_list_01 = get_acc_and_residual(splitted_img_dir, None, \n",
    "                                                                          mN, anchor_class, test_class, 6)"
   ]
  },
  {
   "cell_type": "code",
   "execution_count": 14,
   "metadata": {},
   "outputs": [
    {
     "data": {
      "image/png": "[encoded data removed]",
      "text/plain": [
       "<Figure size 432x288 with 1 Axes>"
      ]
     },
     "metadata": {
      "needs_background": "light"
     },
     "output_type": "display_data"
    },
    {
     "name": "stdout",
     "output_type": "stream",
     "text": [
      "Statistics = -9.3488090132\n",
      "p value = 0.00000\n"
     ]
    }
   ],
   "source": [
    "plot_the_results(prediction_accuracy_list_01, residual_rate_list_01, anchor_class, test_class)\n",
    "welch_t_test(prediction_accuracy_list_01, residual_rate_list_01)"
   ]
  },
  {
   "cell_type": "markdown",
   "metadata": {},
   "source": [
    "## True class = 0, Test class = 2"
   ]
  },
  {
   "cell_type": "code",
   "execution_count": 15,
   "metadata": {
    "scrolled": true
   },
   "outputs": [
    {
     "name": "stdout",
     "output_type": "stream",
     "text": [
      "Test class: 2 ; Anchor class: 0\n",
      "num_of_img: 3026\n",
      "{0.0: 391, 1.0: 71, 2.0: 1859, 3.0: 45, 4.0: 453, 5.0: 207}\n",
      "How confident this image belongs to class 0: 12.92%\n",
      "Residual rate = 87.08%\n",
      "\n",
      "Test class: 2 ; Anchor class: 0\n",
      "num_of_img: 3026\n",
      "{0.0: 722, 1.0: 57, 2.0: 1467, 3.0: 105, 4.0: 573, 5.0: 102}\n",
      "How confident this image belongs to class 0: 23.86%\n",
      "Residual rate = 76.14%\n",
      "\n",
      "Test class: 2 ; Anchor class: 0\n",
      "num_of_img: 3026\n",
      "{0.0: 427, 1.0: 233, 2.0: 1844, 3.0: 2, 4.0: 194, 5.0: 326}\n",
      "How confident this image belongs to class 0: 14.11%\n",
      "Residual rate = 85.89%\n",
      "\n",
      "Test class: 2 ; Anchor class: 0\n",
      "num_of_img: 3026\n",
      "{0.0: 780, 1.0: 54, 2.0: 1289, 3.0: 77, 4.0: 645, 5.0: 181}\n",
      "How confident this image belongs to class 0: 25.78%\n",
      "Residual rate = 74.22%\n",
      "\n",
      "Test class: 2 ; Anchor class: 0\n",
      "num_of_img: 3026\n",
      "{0.0: 474, 1.0: 99, 2.0: 2013, 3.0: 14, 4.0: 207, 5.0: 219}\n",
      "How confident this image belongs to class 0: 15.66%\n",
      "Residual rate = 84.34%\n",
      "\n",
      "Test class: 2 ; Anchor class: 0\n",
      "num_of_img: 3026\n",
      "{0.0: 739, 1.0: 103, 2.0: 1545, 3.0: 35, 4.0: 498, 5.0: 106}\n",
      "How confident this image belongs to class 0: 24.42%\n",
      "Residual rate = 75.58%\n",
      "\n",
      "Positive_list: [12.921348314606742, 23.859881031064113, 14.111037673496366, 25.776602775941836, 15.664243225380039, 24.421678783873098] \n",
      "\n",
      "Negative_list: [87.07865168539325, 76.1401189689359, 85.88896232650363, 74.22339722405816, 84.33575677461997, 75.57832121612691]\n"
     ]
    }
   ],
   "source": [
    "splitted_img_dir = '/raid/home/ben/_kunyi/triplet_net/tea_3/tea_image_datasets/13_tea_classes_splittedImgs/13_tea_classes_V4_iphoneFormat_onlyOolongTea_trainValTest/test_oneImg_to_oneFolder/class_2/'\n",
    "test_class = 2\n",
    "prediction_accuracy_list_02, residual_rate_list_02 = get_acc_and_residual(splitted_img_dir, None, \n",
    "                                                                          mN, anchor_class, test_class, 6)"
   ]
  },
  {
   "cell_type": "code",
   "execution_count": 16,
   "metadata": {},
   "outputs": [
    {
     "data": {
      "image/png": "[encoded data removed]",
      "text/plain": [
       "<Figure size 432x288 with 1 Axes>"
      ]
     },
     "metadata": {
      "needs_background": "light"
     },
     "output_type": "display_data"
    },
    {
     "name": "stdout",
     "output_type": "stream",
     "text": [
      "Statistics = -18.1626960123\n",
      "p value = 0.00000\n"
     ]
    }
   ],
   "source": [
    "plot_the_results(prediction_accuracy_list_02, residual_rate_list_02, anchor_class, test_class)\n",
    "welch_t_test(prediction_accuracy_list_02, residual_rate_list_02)"
   ]
  },
  {
   "cell_type": "markdown",
   "metadata": {},
   "source": [
    "## True class = 0, Test class = 3"
   ]
  },
  {
   "cell_type": "code",
   "execution_count": 17,
   "metadata": {
    "scrolled": true
   },
   "outputs": [
    {
     "name": "stdout",
     "output_type": "stream",
     "text": [
      "Test class: 3 ; Anchor class: 0\n",
      "num_of_img: 3026\n",
      "{0.0: 54, 2.0: 14, 3.0: 2743, 4.0: 197, 5.0: 18}\n",
      "How confident this image belongs to class 0: 1.78%\n",
      "Residual rate = 98.22%\n",
      "\n",
      "Test class: 3 ; Anchor class: 0\n",
      "num_of_img: 3026\n",
      "{0.0: 75, 2.0: 12, 3.0: 2779, 4.0: 145, 5.0: 15}\n",
      "How confident this image belongs to class 0: 2.48%\n",
      "Residual rate = 97.52%\n",
      "\n",
      "Test class: 3 ; Anchor class: 0\n",
      "num_of_img: 3026\n",
      "{0.0: 297, 2.0: 7, 3.0: 2571, 4.0: 147, 5.0: 4}\n",
      "How confident this image belongs to class 0: 9.81%\n",
      "Residual rate = 90.19%\n",
      "\n",
      "Test class: 3 ; Anchor class: 0\n",
      "num_of_img: 3026\n",
      "{0.0: 539, 2.0: 15, 3.0: 2269, 4.0: 193, 5.0: 10}\n",
      "How confident this image belongs to class 0: 17.81%\n",
      "Residual rate = 82.19%\n",
      "\n",
      "Test class: 3 ; Anchor class: 0\n",
      "num_of_img: 3026\n",
      "{0.0: 340, 2.0: 7, 3.0: 2638, 4.0: 36, 5.0: 5}\n",
      "How confident this image belongs to class 0: 11.24%\n",
      "Residual rate = 88.76%\n",
      "\n",
      "Test class: 3 ; Anchor class: 0\n",
      "num_of_img: 3026\n",
      "{0.0: 90, 2.0: 11, 3.0: 2791, 4.0: 127, 5.0: 7}\n",
      "How confident this image belongs to class 0: 2.97%\n",
      "Residual rate = 97.03%\n",
      "\n",
      "Positive_list: [1.784534038334435, 2.478519497686715, 9.814937210839393, 17.812293456708524, 11.235955056179774, 2.9742233972240584] \n",
      "\n",
      "Negative_list: [98.21546596166556, 97.52148050231328, 90.18506278916061, 82.18770654329148, 88.76404494382022, 97.02577660277595]\n"
     ]
    }
   ],
   "source": [
    "splitted_img_dir = '/raid/home/ben/_kunyi/triplet_net/tea_3/tea_image_datasets/13_tea_classes_splittedImgs/13_tea_classes_V4_iphoneFormat_onlyOolongTea_trainValTest/test_oneImg_to_oneFolder/class_3/'\n",
    "test_class = 3\n",
    "prediction_accuracy_list_03, residual_rate_list_03 = get_acc_and_residual(splitted_img_dir, None, \n",
    "                                                                          mN, anchor_class, test_class, 6)"
   ]
  },
  {
   "cell_type": "code",
   "execution_count": 18,
   "metadata": {},
   "outputs": [
    {
     "data": {
      "image/png": "[encoded data removed]",
      "text/plain": [
       "<Figure size 432x288 with 1 Axes>"
      ]
     },
     "metadata": {
      "needs_background": "light"
     },
     "output_type": "display_data"
    },
    {
     "name": "stdout",
     "output_type": "stream",
     "text": [
      "Statistics = -22.9593933005\n",
      "p value = 0.00000\n"
     ]
    }
   ],
   "source": [
    "plot_the_results(prediction_accuracy_list_03, residual_rate_list_03, anchor_class, test_class)\n",
    "welch_t_test(prediction_accuracy_list_03, residual_rate_list_03)"
   ]
  },
  {
   "cell_type": "markdown",
   "metadata": {},
   "source": [
    "## True class = 0, Test class = 4"
   ]
  },
  {
   "cell_type": "code",
   "execution_count": 19,
   "metadata": {
    "scrolled": true
   },
   "outputs": [
    {
     "name": "stdout",
     "output_type": "stream",
     "text": [
      "Test class: 4 ; Anchor class: 0\n",
      "num_of_img: 3026\n",
      "{0.0: 519, 2.0: 244, 3.0: 597, 4.0: 1491, 5.0: 175}\n",
      "How confident this image belongs to class 0: 17.15%\n",
      "Residual rate = 82.85%\n",
      "\n",
      "Test class: 4 ; Anchor class: 0\n",
      "num_of_img: 3026\n",
      "{0.0: 52, 2.0: 124, 3.0: 271, 4.0: 2130, 5.0: 449}\n",
      "How confident this image belongs to class 0: 1.72%\n",
      "Residual rate = 98.28%\n",
      "\n",
      "Test class: 4 ; Anchor class: 0\n",
      "num_of_img: 3026\n",
      "{0.0: 103, 1.0: 156, 2.0: 397, 3.0: 28, 4.0: 1492, 5.0: 850}\n",
      "How confident this image belongs to class 0: 3.40%\n",
      "Residual rate = 96.60%\n",
      "\n",
      "Test class: 4 ; Anchor class: 0\n",
      "num_of_img: 3026\n",
      "{0.0: 237, 1.0: 3, 2.0: 755, 3.0: 99, 4.0: 1609, 5.0: 323}\n",
      "How confident this image belongs to class 0: 7.83%\n",
      "Residual rate = 92.17%\n",
      "\n",
      "Test class: 4 ; Anchor class: 0\n",
      "num_of_img: 3026\n",
      "{0.0: 357, 1.0: 16, 2.0: 835, 3.0: 110, 4.0: 1397, 5.0: 311}\n",
      "How confident this image belongs to class 0: 11.80%\n",
      "Residual rate = 88.20%\n",
      "\n",
      "Test class: 4 ; Anchor class: 0\n",
      "num_of_img: 3026\n",
      "{0.0: 172, 2.0: 298, 3.0: 216, 4.0: 2000, 5.0: 340}\n",
      "How confident this image belongs to class 0: 5.68%\n",
      "Residual rate = 94.32%\n",
      "\n",
      "Positive_list: [17.151354923992066, 1.7184401850627893, 3.4038334434897553, 7.8321216126900195, 11.797752808988763, 5.684071381361534] \n",
      "\n",
      "Negative_list: [82.84864507600793, 98.28155981493721, 96.59616655651024, 92.16787838730998, 88.20224719101124, 94.31592861863847]\n"
     ]
    }
   ],
   "source": [
    "splitted_img_dir = '/raid/home/ben/_kunyi/triplet_net/tea_3/tea_image_datasets/13_tea_classes_splittedImgs/13_tea_classes_V4_iphoneFormat_onlyOolongTea_trainValTest/test_oneImg_to_oneFolder/class_4/'\n",
    "test_class = 4\n",
    "prediction_accuracy_list_04, residual_rate_list_04 = get_acc_and_residual(splitted_img_dir, None, \n",
    "                                                                          mN, anchor_class, test_class, 6)"
   ]
  },
  {
   "cell_type": "code",
   "execution_count": 20,
   "metadata": {},
   "outputs": [
    {
     "data": {
      "image/png": "[encoded data removed]",
      "text/plain": [
       "<Figure size 432x288 with 1 Axes>"
      ]
     },
     "metadata": {
      "needs_background": "light"
     },
     "output_type": "display_data"
    },
    {
     "name": "stdout",
     "output_type": "stream",
     "text": [
      "Statistics = -25.4366090745\n",
      "p value = 0.00000\n"
     ]
    }
   ],
   "source": [
    "plot_the_results(prediction_accuracy_list_04, residual_rate_list_04, anchor_class, test_class)\n",
    "welch_t_test(prediction_accuracy_list_04, residual_rate_list_04)"
   ]
  },
  {
   "cell_type": "markdown",
   "metadata": {},
   "source": [
    "## True class = 0, Test class = 5"
   ]
  },
  {
   "cell_type": "code",
   "execution_count": 21,
   "metadata": {
    "scrolled": true
   },
   "outputs": [
    {
     "name": "stdout",
     "output_type": "stream",
     "text": [
      "Test class: 5 ; Anchor class: 0\n",
      "num_of_img: 3026\n",
      "{0.0: 9, 1.0: 2, 2.0: 127, 3.0: 7, 4.0: 417, 5.0: 2464}\n",
      "How confident this image belongs to class 0: 0.30%\n",
      "Residual rate = 99.70%\n",
      "\n",
      "Test class: 5 ; Anchor class: 0\n",
      "num_of_img: 3026\n",
      "{0.0: 163, 1.0: 5, 2.0: 237, 3.0: 92, 4.0: 907, 5.0: 1622}\n",
      "How confident this image belongs to class 0: 5.39%\n",
      "Residual rate = 94.61%\n",
      "\n",
      "Test class: 5 ; Anchor class: 0\n",
      "num_of_img: 3026\n",
      "{0.0: 14, 1.0: 3, 2.0: 302, 3.0: 10, 4.0: 349, 5.0: 2348}\n",
      "How confident this image belongs to class 0: 0.46%\n",
      "Residual rate = 99.54%\n",
      "\n",
      "Test class: 5 ; Anchor class: 0\n",
      "num_of_img: 3026\n",
      "{0.0: 24, 2.0: 134, 3.0: 25, 4.0: 1029, 5.0: 1814}\n",
      "How confident this image belongs to class 0: 0.79%\n",
      "Residual rate = 99.21%\n",
      "\n",
      "Test class: 5 ; Anchor class: 0\n",
      "num_of_img: 3026\n",
      "{0.0: 84, 1.0: 25, 2.0: 363, 3.0: 9, 4.0: 425, 5.0: 2120}\n",
      "How confident this image belongs to class 0: 2.78%\n",
      "Residual rate = 97.22%\n",
      "\n",
      "Test class: 5 ; Anchor class: 0\n",
      "num_of_img: 3026\n",
      "{0.0: 236, 1.0: 1, 2.0: 266, 3.0: 101, 4.0: 1012, 5.0: 1410}\n",
      "How confident this image belongs to class 0: 7.80%\n",
      "Residual rate = 92.20%\n",
      "\n",
      "Positive_list: [0.29742233972240584, 5.386649041639128, 0.4626569729015202, 0.7931262392597489, 2.775941837409121, 7.7990746860541975] \n",
      "\n",
      "Negative_list: [99.7025776602776, 94.61335095836087, 99.53734302709847, 99.20687376074025, 97.22405816259088, 92.2009253139458]\n"
     ]
    }
   ],
   "source": [
    "splitted_img_dir = '/raid/home/ben/_kunyi/triplet_net/tea_3/tea_image_datasets/13_tea_classes_splittedImgs/13_tea_classes_V4_iphoneFormat_onlyOolongTea_trainValTest/test_oneImg_to_oneFolder/class_5/'\n",
    "test_class = 5\n",
    "prediction_accuracy_list_05, residual_rate_list_05 = get_acc_and_residual(splitted_img_dir, None, \n",
    "                                                                          mN, anchor_class, test_class, 6)"
   ]
  },
  {
   "cell_type": "code",
   "execution_count": 22,
   "metadata": {},
   "outputs": [
    {
     "data": {
      "image/png": "[encoded data removed]",
      "text/plain": [
       "<Figure size 432x288 with 1 Axes>"
      ]
     },
     "metadata": {
      "needs_background": "light"
     },
     "output_type": "display_data"
    },
    {
     "name": "stdout",
     "output_type": "stream",
     "text": [
      "Statistics = -52.9977712891\n",
      "p value = 0.00000\n"
     ]
    }
   ],
   "source": [
    "plot_the_results(prediction_accuracy_list_05, residual_rate_list_05, anchor_class, test_class)\n",
    "welch_t_test(prediction_accuracy_list_05, residual_rate_list_05)"
   ]
  },
  {
   "cell_type": "code",
   "execution_count": null,
   "metadata": {},
   "outputs": [],
   "source": []
  },
  {
   "cell_type": "code",
   "execution_count": null,
   "metadata": {},
   "outputs": [],
   "source": []
  }
 ],
 "metadata": {
  "kernelspec": {
   "display_name": "Python 3",
   "language": "python",
   "name": "python3"
  },
  "language_info": {
   "codemirror_mode": {
    "name": "ipython",
    "version": 3
   },
   "file_extension": ".py",
   "mimetype": "text/x-python",
   "name": "python",
   "nbconvert_exporter": "python",
   "pygments_lexer": "ipython3",
   "version": "3.7.7"
  }
 },
 "nbformat": 4,
 "nbformat_minor": 2
}
