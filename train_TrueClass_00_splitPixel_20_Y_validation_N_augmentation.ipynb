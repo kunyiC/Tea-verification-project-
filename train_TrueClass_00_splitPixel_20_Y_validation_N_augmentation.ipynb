{
 "cells": [
  {
   "cell_type": "code",
   "execution_count": 1,
   "metadata": {},
   "outputs": [
    {
     "name": "stderr",
     "output_type": "stream",
     "text": [
      "Using TensorFlow backend.\n"
     ]
    }
   ],
   "source": [
    "import warnings\n",
    "warnings.simplefilter(action=\"ignore\", category=FutureWarning)\n",
    "from keras.models import Model, load_model\n",
    "from keras.layers import Input, Flatten, Dense, concatenate#,  Dropout\n",
    "from keras.optimizers import Adam\n",
    "#from keras.utils import plot_model\n",
    "#from keras.callbacks import ModelCheckpoint\n",
    "from keras.models import Sequential\n",
    "from keras.layers.normalization import BatchNormalization\n",
    "from keras.layers.convolutional import Conv2D\n",
    "from keras.layers.convolutional import MaxPooling2D\n",
    "from keras.layers.core import Activation\n",
    "from tensorflow.python.ops import array_ops\n",
    "from tensorflow.python.ops import math_ops\n",
    "from tensorflow.python.framework import dtypes\n",
    "import tensorflow as tf\n",
    "import matplotlib.pyplot as plt\n",
    "import numpy as np\n",
    "#from sklearn.decomposition import PCA\n",
    "#from sklearn.model_selection import train_test_split\n",
    "from sklearn.metrics import accuracy_score\n",
    "#from keras import regularizers\n",
    "from keras import backend as K\n",
    "#import cv2\n",
    "import os\n",
    "from glob import glob\n",
    "#import tqdm\n",
    "from PIL import Image\n",
    "#import scipy.io as sio\n",
    "import xgboost as xgb\n",
    "#from xgboost import plot_importance\n",
    "import time\n",
    "#import pickle\n",
    "import keras2onnx\n",
    "import onnx\n",
    "import random\n",
    "#import gc\n",
    "from keras.callbacks import Callback\n",
    "#from keras.callbacks import EarlyStopping\n",
    "#from tensorflow.python.keras.callbacks import ModelCheckpoint\n",
    "import argparse"
   ]
  },
  {
   "cell_type": "code",
   "execution_count": 2,
   "metadata": {},
   "outputs": [],
   "source": [
    "os.environ[\"CUDA_DEVICE_ORDER\"]=\"PCI_BUS_ID\"\n",
    "os.environ[\"CUDA_VISIBLE_DEVICES\"]=\"1\""
   ]
  },
  {
   "cell_type": "code",
   "execution_count": 3,
   "metadata": {},
   "outputs": [],
   "source": [
    "import math\n",
    "    \n",
    "def get_data_num_floor_function(split_dir, total_class_number):\n",
    "    list_of_img_num_in_each_class = []\n",
    "    \n",
    "    for i in range(0, total_class_number):\n",
    "        file_list = os.listdir(split_dir+str(i)) # file_dir is your directory path\n",
    "        img_num_in_each_class = len(file_list)\n",
    "        list_of_img_num_in_each_class.append(img_num_in_each_class)\n",
    "        \n",
    "    the_min_img_num = min(list_of_img_num_in_each_class)\n",
    "    int_value_of_negative_classes = math.floor(the_min_img_num/5)\n",
    "    int_value_of_positive_class = int_value_of_negative_classes*5\n",
    "    \n",
    "    return int_value_of_negative_classes, int_value_of_positive_class"
   ]
  },
  {
   "cell_type": "code",
   "execution_count": 4,
   "metadata": {
    "scrolled": true
   },
   "outputs": [
    {
     "data": {
      "text/plain": [
       "_StoreAction(option_strings=['-m', '--mN'], dest='mN', nargs=None, const=None, default=None, type=<class 'int'>, choices=None, help=None, metavar=None)"
      ]
     },
     "execution_count": 4,
     "metadata": {},
     "output_type": "execute_result"
    }
   ],
   "source": [
    "# python trTripletOstIter2.py --mN 1\n",
    "ap = argparse.ArgumentParser()\n",
    "ap.add_argument(\"-m\", \"--mN\", type=int)\n",
    "#args = vars(ap.parse_args())"
   ]
  },
  {
   "cell_type": "code",
   "execution_count": 5,
   "metadata": {},
   "outputs": [],
   "source": [
    "picSize=224"
   ]
  },
  {
   "cell_type": "code",
   "execution_count": 6,
   "metadata": {},
   "outputs": [],
   "source": [
    "def get_val_data(val_dir, dirName, total_class_number, positive_class_index):\n",
    "    negative_img_num, positive_img_num = get_data_num_floor_function(val_dir, total_class_number)\n",
    "    data = glob(os.path.join(val_dir+str(dirName)+\"/\", \"*.jpg\"))\n",
    "    data = np.sort(data)\n",
    "    st1=0\n",
    "    if dirName == positive_class_index:\n",
    "        nd1 = positive_img_num\n",
    "    else:\n",
    "        nd1 = negative_img_num\n",
    "    #nd1=data.size\n",
    "    x1 = np.zeros((len(range(st1,nd1,1)), picSize, picSize, 1),dtype='float16')\n",
    "    y1 = np.ones((len(range(st1,nd1,1)),),dtype='uint8')*dirName\n",
    "    k=-1\n",
    "    li1 = [i for i in range(data.size)]\n",
    "    j=random.sample(li1,nd1)\n",
    "    dataName=[]\n",
    "    for i in range(st1, nd1, 1):\n",
    "        image = Image.open(data[j[i]])\n",
    "        dataName.append(data[j[i]])\n",
    "        image = np.asarray(image) / 255.0   \n",
    "        #a=image[:,:,1]\n",
    "        a=image\n",
    "        b=a.reshape((picSize,picSize,1))\n",
    "        k=k+1\n",
    "        x1[k] = b\n",
    "    x_data=x1\n",
    "    y_data=y1\n",
    "    return x_data.astype('float16'),y_data.astype('uint8'),dataName"
   ]
  },
  {
   "cell_type": "code",
   "execution_count": 7,
   "metadata": {},
   "outputs": [],
   "source": [
    "def get_tr_data(train_dir, dirName, total_class_number, positive_class_index): \n",
    "    negative_img_num, positive_img_num = get_data_num_floor_function(train_dir, total_class_number)\n",
    "    data = glob(os.path.join(train_dir+str(dirName)+\"/\", \"*.jpg\"))\n",
    "    data = np.sort(data)\n",
    "    st0=0\n",
    "    if dirName == positive_class_index:\n",
    "        nd0 = positive_img_num\n",
    "    else:\n",
    "        nd0 = negative_img_num\n",
    "    #nd0=data.size\n",
    "    x0 = np.zeros((len(range(st0,nd0,1)), picSize, picSize, 1),dtype='float16')\n",
    "    y0 = np.ones((len(range(st0,nd0,1)),),dtype='uint8')*dirName\n",
    "    k=-1\n",
    "    li0 = [i for i in range(data.size)]\n",
    "    j=random.sample(li0, nd0)    \n",
    "    for i in range(st0, nd0, 1):\n",
    "        image = Image.open(data[j[i]]) \n",
    "        image = np.asarray(image) / 255.0\n",
    "        #a=image[:,:,1]\n",
    "        a=image\n",
    "        b=a.reshape((picSize,picSize,1))\n",
    "        k=k+1\n",
    "        x0[k] = b    \n",
    "    return x0.astype('float16'),y0.astype('uint8')"
   ]
  },
  {
   "cell_type": "code",
   "execution_count": 8,
   "metadata": {},
   "outputs": [],
   "source": [
    "def categorical_squared_hinge(y_true, y_pred):\n",
    "    y_true = 2. * y_true - 1\n",
    "    vvvv = K.maximum(1. - y_true * y_pred, 0.)\n",
    "    vv = K.sum(vvvv, 1, keepdims=False)\n",
    "    v = K.mean(vv, axis=-1)\n",
    "    return v"
   ]
  },
  {
   "cell_type": "code",
   "execution_count": 9,
   "metadata": {},
   "outputs": [],
   "source": [
    "def pairwise_distance(feature, squared=False):\n",
    "    pairwise_distances_squared = math_ops.add(\n",
    "        math_ops.reduce_sum(math_ops.square(feature), axis=[1], keepdims=True),\n",
    "        math_ops.reduce_sum(\n",
    "            math_ops.square(array_ops.transpose(feature)),\n",
    "            axis=[0],\n",
    "            keepdims=True)) - 2.0 * math_ops.matmul(feature,\n",
    "                                                    array_ops.transpose(feature))\n",
    "    pairwise_distances_squared = math_ops.maximum(pairwise_distances_squared, 0.0)\n",
    "    error_mask = math_ops.less_equal(pairwise_distances_squared, 0.0)\n",
    "    if squared:\n",
    "        pairwise_distances = pairwise_distances_squared\n",
    "    else:\n",
    "        pairwise_distances = math_ops.sqrt(\n",
    "            pairwise_distances_squared + math_ops.to_float(error_mask) * 1e-16)\n",
    "    pairwise_distances = math_ops.multiply(\n",
    "        pairwise_distances, math_ops.to_float(math_ops.logical_not(error_mask)))\n",
    "    num_data = array_ops.shape(feature)[0]\n",
    "    mask_offdiagonals = array_ops.ones_like(pairwise_distances) - array_ops.diag(\n",
    "        array_ops.ones([num_data]))\n",
    "    pairwise_distances = math_ops.multiply(pairwise_distances, mask_offdiagonals)\n",
    "    return pairwise_distances"
   ]
  },
  {
   "cell_type": "code",
   "execution_count": 10,
   "metadata": {},
   "outputs": [],
   "source": [
    "def masked_maximum(data, mask, dim=1):\n",
    "    axis_minimums = math_ops.reduce_min(data, dim, keepdims=True)\n",
    "    masked_maximums = math_ops.reduce_max(\n",
    "        math_ops.multiply(data - axis_minimums, mask), dim,\n",
    "        keepdims=True) + axis_minimums\n",
    "    return masked_maximums\n",
    "\n",
    "def masked_minimum(data, mask, dim=1):\n",
    "    axis_maximums = math_ops.reduce_max(data, dim, keepdims=True)\n",
    "    masked_minimums = math_ops.reduce_min(\n",
    "        math_ops.multiply(data - axis_maximums, mask), dim,\n",
    "        keepdims=True) + axis_maximums\n",
    "    return masked_minimums"
   ]
  },
  {
   "cell_type": "code",
   "execution_count": 11,
   "metadata": {},
   "outputs": [],
   "source": [
    "def triplet_loss_adapted_from_tf(y_true, y_pred):\n",
    "    del y_true\n",
    "    margin = 1.\n",
    "    labels = y_pred[:, :1] \n",
    "    labels = tf.cast(labels, dtype='int32')\n",
    "    embeddings = y_pred[:, 1:]\n",
    "    pdist_matrix = pairwise_distance(embeddings, squared=True)\n",
    "    adjacency = math_ops.equal(labels, array_ops.transpose(labels))\n",
    "    adjacency_not = math_ops.logical_not(adjacency)\n",
    "    batch_size = array_ops.size(labels)\n",
    "    pdist_matrix_tile = array_ops.tile(pdist_matrix, [batch_size, 1])\n",
    "    mask = math_ops.logical_and(\n",
    "        array_ops.tile(adjacency_not, [batch_size, 1]),\n",
    "        math_ops.greater(\n",
    "            pdist_matrix_tile, array_ops.reshape(\n",
    "                array_ops.transpose(pdist_matrix), [-1, 1])))\n",
    "    mask_final = array_ops.reshape(\n",
    "        math_ops.greater(\n",
    "            math_ops.reduce_sum(\n",
    "                math_ops.cast(mask, dtype=dtypes.float32), 1, keepdims=True),\n",
    "            0.0), [batch_size, batch_size])\n",
    "    mask_final = array_ops.transpose(mask_final)\n",
    "    adjacency_not = math_ops.cast(adjacency_not, dtype=dtypes.float32)\n",
    "    mask = math_ops.cast(mask, dtype=dtypes.float32)\n",
    "    negatives_outside = array_ops.reshape(\n",
    "        masked_minimum(pdist_matrix_tile, mask), [batch_size, batch_size])\n",
    "    negatives_outside = array_ops.transpose(negatives_outside)\n",
    "    negatives_inside = array_ops.tile(\n",
    "        masked_maximum(pdist_matrix, adjacency_not), [1, batch_size])\n",
    "    semi_hard_negatives = array_ops.where(\n",
    "        mask_final, negatives_outside, negatives_inside)\n",
    "    loss_mat = math_ops.add(margin, pdist_matrix - semi_hard_negatives)\n",
    "    mask_positives = math_ops.cast(\n",
    "        adjacency, dtype=dtypes.float32) - array_ops.diag(\n",
    "        array_ops.ones([batch_size]))\n",
    "    num_positives = math_ops.reduce_sum(mask_positives)\n",
    "    semi_hard_triplet_loss_distance = math_ops.truediv(\n",
    "        math_ops.reduce_sum(\n",
    "            math_ops.maximum(\n",
    "                math_ops.multiply(loss_mat, mask_positives), 0.0)),\n",
    "        num_positives,\n",
    "        name='triplet_semihard_loss')\n",
    "    return semi_hard_triplet_loss_distance"
   ]
  },
  {
   "cell_type": "code",
   "execution_count": 12,
   "metadata": {},
   "outputs": [],
   "source": [
    "def create_base_network2(image_input_shape, embedding_size):   \n",
    "    model = Sequential()\n",
    "    inputShape = (picSize, picSize, 1)\n",
    "    chanDim = -1\n",
    "    model.add(Conv2D(32, (3, 3), padding=\"same\",input_shape=inputShape))\n",
    "    model.add(Activation(\"relu\"))\n",
    "    model.add(BatchNormalization(axis=chanDim))\n",
    "    model.add(Conv2D(32, (3, 3), padding=\"same\"))\n",
    "    model.add(Activation(\"relu\"))\n",
    "    model.add(BatchNormalization(axis=chanDim))\n",
    "    model.add(MaxPooling2D(pool_size=(2, 2)))\n",
    "    #model.add(Dropout(0.25))\n",
    "    model.add(Conv2D(64, (3, 3), padding=\"same\"))\n",
    "    model.add(Activation(\"relu\"))\n",
    "    model.add(BatchNormalization(axis=chanDim))\n",
    "    model.add(Conv2D(64, (3, 3), padding=\"same\"))\n",
    "    model.add(Activation(\"relu\"))\n",
    "    model.add(BatchNormalization(axis=chanDim))\n",
    "    model.add(MaxPooling2D(pool_size=(2, 2)))\n",
    "    #model.add(Dropout(0.25))\n",
    "    model.add(Flatten())    \n",
    "    model.add(Dense(embedding_size))\n",
    "    base_network=model\n",
    "    return base_network"
   ]
  },
  {
   "cell_type": "code",
   "execution_count": 13,
   "metadata": {},
   "outputs": [],
   "source": [
    "class EarlyStoppingByLossVal(Callback):\n",
    "    def __init__(self, monitor='loss', value=0.001, verbose=0):\n",
    "        super(Callback, self).__init__()\n",
    "        self.monitor = monitor\n",
    "        self.value = value\n",
    "        self.verbose = verbose\n",
    "\n",
    "    def on_epoch_end(self, epoch, logs={}):\n",
    "        current = logs.get(self.monitor)\n",
    "        if current is None:\n",
    "            warnings.warn(\"Early stopping requires %s available!\" % self.monitor, RuntimeWarning)\n",
    "        else:\n",
    "            if current < self.value:\n",
    "                if self.verbose > 0.0:\n",
    "                    print(\"Epoch %05d: early stopping THR\" % epoch)\n",
    "                self.model.stop_training = True"
   ]
  },
  {
   "cell_type": "code",
   "execution_count": 14,
   "metadata": {},
   "outputs": [],
   "source": [
    "starttime = time.localtime(time.time())\n",
    "input_image_shape = (picSize, picSize, 1)\n",
    "embedding_size = 128\n",
    "opt = Adam(lr=1e-6)"
   ]
  },
  {
   "cell_type": "code",
   "execution_count": 15,
   "metadata": {},
   "outputs": [],
   "source": [
    "train_dir = '/raid/home/ben/_kunyi/triplet_net/tea_3/tea_image_datasets/13_tea_classes_splittedImgs/13_tea_classes_V4_iphoneFormat_onlyOolongTea_trainValTest/train/'\n",
    "val_dir = '/raid/home/ben/_kunyi/triplet_net/tea_3/tea_image_datasets/13_tea_classes_splittedImgs/13_tea_classes_V4_iphoneFormat_onlyOolongTea_trainValTest/val/'"
   ]
  },
  {
   "cell_type": "code",
   "execution_count": 16,
   "metadata": {},
   "outputs": [],
   "source": [
    "positive_class_index = 0\n",
    "classN = 6\n",
    "dirName = 0"
   ]
  },
  {
   "cell_type": "code",
   "execution_count": 17,
   "metadata": {},
   "outputs": [],
   "source": [
    "## training data\n",
    "x_train, y_train = get_tr_data(train_dir, dirName, classN, positive_class_index)\n",
    "for i in range(1,classN,1):\n",
    "    xi,yi = get_tr_data(train_dir, i, classN, positive_class_index)\n",
    "    x_train=np.concatenate((x_train,xi), axis=0)\n",
    "    y_train=np.concatenate((y_train,yi), axis=0)"
   ]
  },
  {
   "cell_type": "code",
   "execution_count": 18,
   "metadata": {},
   "outputs": [],
   "source": [
    "## validation data\n",
    "x_test, y_test, dN = get_val_data(val_dir, dirName, classN, positive_class_index)\n",
    "for i in range(1,classN,1):\n",
    "    xi,yi,dNi = get_val_data(val_dir, i, classN, positive_class_index)    \n",
    "    dN=np.concatenate((dN,dNi), axis=0)\n",
    "    x_test=np.concatenate((x_test,xi), axis=0)\n",
    "    y_test=np.concatenate((y_test,yi), axis=0)"
   ]
  },
  {
   "cell_type": "code",
   "execution_count": 19,
   "metadata": {},
   "outputs": [],
   "source": [
    "mN = 0 "
   ]
  },
  {
   "cell_type": "code",
   "execution_count": 20,
   "metadata": {
    "collapsed": true
   },
   "outputs": [
    {
     "name": "stdout",
     "output_type": "stream",
     "text": [
      "WARNING:tensorflow:From /home/ben/anaconda3/lib/python3.7/site-packages/keras/backend/tensorflow_backend.py:68: The name tf.get_default_graph is deprecated. Please use tf.compat.v1.get_default_graph instead.\n",
      "\n",
      "WARNING:tensorflow:From /home/ben/anaconda3/lib/python3.7/site-packages/keras/backend/tensorflow_backend.py:508: The name tf.placeholder is deprecated. Please use tf.compat.v1.placeholder instead.\n",
      "\n",
      "WARNING:tensorflow:From /home/ben/anaconda3/lib/python3.7/site-packages/keras/backend/tensorflow_backend.py:3837: The name tf.random_uniform is deprecated. Please use tf.random.uniform instead.\n",
      "\n",
      "WARNING:tensorflow:From /home/ben/anaconda3/lib/python3.7/site-packages/keras/backend/tensorflow_backend.py:168: The name tf.get_default_session is deprecated. Please use tf.compat.v1.get_default_session instead.\n",
      "\n",
      "WARNING:tensorflow:From /home/ben/anaconda3/lib/python3.7/site-packages/keras/backend/tensorflow_backend.py:175: The name tf.ConfigProto is deprecated. Please use tf.compat.v1.ConfigProto instead.\n",
      "\n",
      "WARNING:tensorflow:From /home/ben/anaconda3/lib/python3.7/site-packages/keras/backend/tensorflow_backend.py:180: The name tf.Session is deprecated. Please use tf.compat.v1.Session instead.\n",
      "\n",
      "WARNING:tensorflow:From /home/ben/anaconda3/lib/python3.7/site-packages/keras/backend/tensorflow_backend.py:184: The name tf.global_variables is deprecated. Please use tf.compat.v1.global_variables instead.\n",
      "\n",
      "WARNING:tensorflow:From /home/ben/anaconda3/lib/python3.7/site-packages/keras/backend/tensorflow_backend.py:193: The name tf.is_variable_initialized is deprecated. Please use tf.compat.v1.is_variable_initialized instead.\n",
      "\n",
      "WARNING:tensorflow:From /home/ben/anaconda3/lib/python3.7/site-packages/keras/backend/tensorflow_backend.py:200: The name tf.variables_initializer is deprecated. Please use tf.compat.v1.variables_initializer instead.\n",
      "\n",
      "WARNING:tensorflow:From /home/ben/anaconda3/lib/python3.7/site-packages/keras/backend/tensorflow_backend.py:1801: The name tf.nn.fused_batch_norm is deprecated. Please use tf.compat.v1.nn.fused_batch_norm instead.\n",
      "\n",
      "WARNING:tensorflow:From /home/ben/anaconda3/lib/python3.7/site-packages/keras/backend/tensorflow_backend.py:127: The name tf.placeholder_with_default is deprecated. Please use tf.compat.v1.placeholder_with_default instead.\n",
      "\n",
      "WARNING:tensorflow:From /home/ben/anaconda3/lib/python3.7/site-packages/keras/backend/tensorflow_backend.py:3661: The name tf.nn.max_pool is deprecated. Please use tf.nn.max_pool2d instead.\n",
      "\n"
     ]
    }
   ],
   "source": [
    "if (mN==0): # 建新模型 modelN=0\n",
    "    base_network = create_base_network2(input_image_shape, embedding_size)\n",
    "    input_images = Input(shape=input_image_shape, name='input_image')\n",
    "    input_labels = Input(shape=(1,), name='input_label')\n",
    "    embeddings = base_network([input_images])\n",
    "    labels_plus_embeddings = concatenate([input_labels, embeddings])\n",
    "    model = Model(inputs=[input_images, input_labels],outputs=labels_plus_embeddings)"
   ]
  },
  {
   "cell_type": "code",
   "execution_count": 21,
   "metadata": {},
   "outputs": [],
   "source": [
    "if (mN>0): # 疊代使用 modelN=1,2,3,...\n",
    "    model = load_model(\"trip_Ost_\"+str(mN-1)+\".h5\", \n",
    "                       custom_objects={'triplet_loss_adapted_from_tf':triplet_loss_adapted_from_tf})\n",
    "    testing_embeddings = create_base_network2(input_image_shape,embedding_size=embedding_size)\n",
    "    for layer_target, layer_source in zip(testing_embeddings.layers, model.layers[2].layers):\n",
    "        weights = layer_source.get_weights()\n",
    "        layer_target.set_weights(weights)\n",
    "        del weights"
   ]
  },
  {
   "cell_type": "code",
   "execution_count": 22,
   "metadata": {
    "collapsed": true
   },
   "outputs": [
    {
     "name": "stdout",
     "output_type": "stream",
     "text": [
      "WARNING:tensorflow:From /home/ben/anaconda3/lib/python3.7/site-packages/keras/optimizers.py:757: The name tf.train.Optimizer is deprecated. Please use tf.compat.v1.train.Optimizer instead.\n",
      "\n",
      "WARNING:tensorflow:From <ipython-input-9-b49435282184>:17: to_float (from tensorflow.python.ops.math_ops) is deprecated and will be removed in a future version.\n",
      "Instructions for updating:\n",
      "Use `tf.cast` instead.\n",
      "WARNING:tensorflow:From <ipython-input-11-cb1e30d47fd7>:31: where (from tensorflow.python.ops.array_ops) is deprecated and will be removed in a future version.\n",
      "Instructions for updating:\n",
      "Use tf.where in 2.0, which has the same broadcast rule as np.where\n"
     ]
    }
   ],
   "source": [
    "model.compile(loss=triplet_loss_adapted_from_tf, optimizer=opt)"
   ]
  },
  {
   "cell_type": "code",
   "execution_count": 23,
   "metadata": {},
   "outputs": [],
   "source": [
    "callbacks_list = [EarlyStoppingByLossVal()]\n",
    "dummy_gt_train = np.zeros((len(x_train), embedding_size + 1)) \n",
    "dummy_gt_val = np.zeros((len(x_test), embedding_size + 1))\n",
    "x_train = np.reshape(x_train, (len(x_train), x_train.shape[1], x_train.shape[1], 1))\n",
    "x_test = np.reshape(x_test, (len(x_test), x_train.shape[1], x_train.shape[1], 1))\n",
    "#x_train = np.reshape(x_train, (len(x_train), x_train.shape[0], x_train.shape[1], 1))"
   ]
  },
  {
   "cell_type": "code",
   "execution_count": 24,
   "metadata": {},
   "outputs": [],
   "source": [
    "start = time.perf_counter()"
   ]
  },
  {
   "cell_type": "code",
   "execution_count": 25,
   "metadata": {},
   "outputs": [],
   "source": [
    "batch_size = 128\n",
    "epochs = 1000"
   ]
  },
  {
   "cell_type": "code",
   "execution_count": null,
   "metadata": {
    "scrolled": true
   },
   "outputs": [
    {
     "name": "stdout",
     "output_type": "stream",
     "text": [
      "WARNING:tensorflow:From /home/ben/anaconda3/lib/python3.7/site-packages/keras/backend/tensorflow_backend.py:977: The name tf.assign_add is deprecated. Please use tf.compat.v1.assign_add instead.\n",
      "\n",
      "WARNING:tensorflow:From /home/ben/anaconda3/lib/python3.7/site-packages/keras/backend/tensorflow_backend.py:964: The name tf.assign is deprecated. Please use tf.compat.v1.assign instead.\n",
      "\n",
      "Train on 290400 samples, validate on 36300 samples\n",
      "Epoch 1/1000\n",
      "290400/290400 [==============================] - 499s 2ms/step - loss: 1.3410 - val_loss: 1027.6321\n",
      "Epoch 2/1000\n",
      "290400/290400 [==============================] - 488s 2ms/step - loss: 1.0237 - val_loss: 1026.7143\n",
      "Epoch 3/1000\n",
      "290400/290400 [==============================] - 489s 2ms/step - loss: 0.6485 - val_loss: 939.4409\n",
      "Epoch 4/1000\n",
      "290400/290400 [==============================] - 489s 2ms/step - loss: 0.4635 - val_loss: 947.7999\n",
      "Epoch 5/1000\n",
      "290400/290400 [==============================] - 488s 2ms/step - loss: 0.3396 - val_loss: 950.0628\n",
      "Epoch 6/1000\n",
      "290400/290400 [==============================] - 488s 2ms/step - loss: 0.2446 - val_loss: 941.0029\n",
      "Epoch 7/1000\n",
      "290400/290400 [==============================] - 488s 2ms/step - loss: 0.1905 - val_loss: 933.8397\n",
      "Epoch 8/1000\n",
      "290400/290400 [==============================] - 488s 2ms/step - loss: 0.1484 - val_loss: 924.5859\n",
      "Epoch 9/1000\n",
      "290400/290400 [==============================] - 488s 2ms/step - loss: 0.1348 - val_loss: 922.3495\n",
      "Epoch 10/1000\n",
      "290400/290400 [==============================] - 488s 2ms/step - loss: 0.1177 - val_loss: 909.7888\n",
      "Epoch 11/1000\n",
      "290400/290400 [==============================] - 488s 2ms/step - loss: 0.1121 - val_loss: 898.0709\n",
      "Epoch 12/1000\n",
      "290400/290400 [==============================] - 489s 2ms/step - loss: 0.1003 - val_loss: 891.6411\n",
      "Epoch 13/1000\n",
      "290400/290400 [==============================] - 488s 2ms/step - loss: 0.0938 - val_loss: 883.3678\n",
      "Epoch 14/1000\n",
      "290400/290400 [==============================] - 488s 2ms/step - loss: 0.0910 - val_loss: 868.6602\n",
      "Epoch 15/1000\n",
      "290400/290400 [==============================] - 488s 2ms/step - loss: 0.0876 - val_loss: 866.6656\n",
      "Epoch 16/1000\n",
      "290400/290400 [==============================] - 488s 2ms/step - loss: 0.0824 - val_loss: 854.3032\n",
      "Epoch 17/1000\n",
      "290400/290400 [==============================] - 488s 2ms/step - loss: 0.0794 - val_loss: 849.7068\n",
      "Epoch 18/1000\n",
      "290400/290400 [==============================] - 488s 2ms/step - loss: 0.0697 - val_loss: 845.0362\n",
      "Epoch 19/1000\n",
      "290400/290400 [==============================] - 488s 2ms/step - loss: 0.0670 - val_loss: 833.0535\n",
      "Epoch 20/1000\n",
      "290400/290400 [==============================] - 488s 2ms/step - loss: 0.0665 - val_loss: 833.3382\n",
      "Epoch 21/1000\n",
      "290400/290400 [==============================] - 488s 2ms/step - loss: 0.0674 - val_loss: 823.0841\n",
      "Epoch 22/1000\n",
      "290400/290400 [==============================] - 488s 2ms/step - loss: 0.0584 - val_loss: 819.2676\n",
      "Epoch 23/1000\n",
      "290400/290400 [==============================] - 488s 2ms/step - loss: 0.0585 - val_loss: 813.2690\n",
      "Epoch 24/1000\n",
      "290400/290400 [==============================] - 488s 2ms/step - loss: 0.0553 - val_loss: 804.9301\n",
      "Epoch 25/1000\n",
      "290400/290400 [==============================] - 489s 2ms/step - loss: 0.0577 - val_loss: 802.6145\n",
      "Epoch 26/1000\n",
      "290400/290400 [==============================] - 488s 2ms/step - loss: 0.0512 - val_loss: 796.3342\n",
      "Epoch 27/1000\n",
      "290400/290400 [==============================] - 488s 2ms/step - loss: 0.0507 - val_loss: 793.2856\n",
      "Epoch 28/1000\n",
      "290400/290400 [==============================] - 489s 2ms/step - loss: 0.0486 - val_loss: 787.5094\n",
      "Epoch 29/1000\n",
      "290400/290400 [==============================] - 488s 2ms/step - loss: 0.0448 - val_loss: 782.9343\n",
      "Epoch 30/1000\n",
      "290400/290400 [==============================] - 489s 2ms/step - loss: 0.0436 - val_loss: 777.4254\n",
      "Epoch 31/1000\n",
      "290400/290400 [==============================] - 490s 2ms/step - loss: 0.0435 - val_loss: 773.9135\n",
      "Epoch 32/1000\n",
      "290400/290400 [==============================] - 490s 2ms/step - loss: 0.0412 - val_loss: 769.2342\n",
      "Epoch 33/1000\n",
      "290400/290400 [==============================] - 490s 2ms/step - loss: 0.0383 - val_loss: 764.7213\n",
      "Epoch 34/1000\n",
      "290400/290400 [==============================] - 491s 2ms/step - loss: 0.0381 - val_loss: 763.9826\n",
      "Epoch 35/1000\n",
      "290400/290400 [==============================] - 488s 2ms/step - loss: 0.0377 - val_loss: 758.5999\n",
      "Epoch 36/1000\n",
      "290400/290400 [==============================] - 489s 2ms/step - loss: 0.0326 - val_loss: 753.7203\n",
      "Epoch 37/1000\n",
      "290400/290400 [==============================] - 492s 2ms/step - loss: 0.0341 - val_loss: 748.4262\n",
      "Epoch 38/1000\n",
      "290400/290400 [==============================] - 492s 2ms/step - loss: 0.0315 - val_loss: 748.4134\n",
      "Epoch 39/1000\n",
      "290400/290400 [==============================] - 494s 2ms/step - loss: 0.0297 - val_loss: 741.3046\n",
      "Epoch 40/1000\n",
      "290400/290400 [==============================] - 489s 2ms/step - loss: 0.0297 - val_loss: 740.8579\n",
      "Epoch 41/1000\n",
      "290400/290400 [==============================] - 491s 2ms/step - loss: 0.0282 - val_loss: 733.9478\n",
      "Epoch 42/1000\n",
      "290400/290400 [==============================] - 493s 2ms/step - loss: 0.0270 - val_loss: 730.8731\n",
      "Epoch 43/1000\n",
      "290400/290400 [==============================] - 490s 2ms/step - loss: 0.0253 - val_loss: 730.9960\n",
      "Epoch 44/1000\n",
      "290400/290400 [==============================] - 491s 2ms/step - loss: 0.0250 - val_loss: 729.5904\n",
      "Epoch 45/1000\n",
      "290400/290400 [==============================] - 489s 2ms/step - loss: 0.0239 - val_loss: 722.4741\n",
      "Epoch 46/1000\n",
      "290400/290400 [==============================] - 489s 2ms/step - loss: 0.0223 - val_loss: 722.7056\n",
      "Epoch 47/1000\n",
      "290400/290400 [==============================] - 489s 2ms/step - loss: 0.0242 - val_loss: 715.0029\n",
      "Epoch 48/1000\n",
      "290400/290400 [==============================] - 489s 2ms/step - loss: 0.0225 - val_loss: 713.9627\n",
      "Epoch 49/1000\n",
      "290400/290400 [==============================] - 489s 2ms/step - loss: 0.0214 - val_loss: 709.9099\n",
      "Epoch 50/1000\n",
      "290400/290400 [==============================] - 488s 2ms/step - loss: 0.0211 - val_loss: 707.8404\n",
      "Epoch 51/1000\n",
      "290400/290400 [==============================] - 489s 2ms/step - loss: 0.0200 - val_loss: 705.6857\n",
      "Epoch 52/1000\n",
      "290400/290400 [==============================] - 489s 2ms/step - loss: 0.0200 - val_loss: 703.4804\n",
      "Epoch 53/1000\n",
      "290400/290400 [==============================] - 488s 2ms/step - loss: 0.0173 - val_loss: 696.9973\n",
      "Epoch 54/1000\n",
      "290400/290400 [==============================] - 488s 2ms/step - loss: 0.0180 - val_loss: 694.1208\n",
      "Epoch 55/1000\n",
      "290400/290400 [==============================] - 489s 2ms/step - loss: 0.0172 - val_loss: 694.3335\n",
      "Epoch 56/1000\n",
      "290400/290400 [==============================] - 488s 2ms/step - loss: 0.0166 - val_loss: 691.3762\n",
      "Epoch 57/1000\n",
      "290400/290400 [==============================] - 488s 2ms/step - loss: 0.0165 - val_loss: 690.5085\n",
      "Epoch 58/1000\n",
      "290400/290400 [==============================] - 489s 2ms/step - loss: 0.0166 - val_loss: 687.3265\n",
      "Epoch 59/1000\n",
      "290400/290400 [==============================] - 489s 2ms/step - loss: 0.0160 - val_loss: 684.9260\n",
      "Epoch 60/1000\n",
      "290400/290400 [==============================] - 488s 2ms/step - loss: 0.0147 - val_loss: 686.3413\n",
      "Epoch 61/1000\n",
      "290400/290400 [==============================] - 489s 2ms/step - loss: 0.0149 - val_loss: 681.6593\n",
      "Epoch 62/1000\n",
      "290400/290400 [==============================] - 488s 2ms/step - loss: 0.0138 - val_loss: 681.2875\n",
      "Epoch 63/1000\n",
      "290400/290400 [==============================] - 488s 2ms/step - loss: 0.0137 - val_loss: 678.2660\n",
      "Epoch 64/1000\n",
      "290400/290400 [==============================] - 488s 2ms/step - loss: 0.0131 - val_loss: 672.8968\n",
      "Epoch 65/1000\n",
      "290400/290400 [==============================] - 488s 2ms/step - loss: 0.0143 - val_loss: 673.0749\n",
      "Epoch 66/1000\n",
      "290400/290400 [==============================] - 488s 2ms/step - loss: 0.0134 - val_loss: 673.3694\n",
      "Epoch 67/1000\n",
      "290400/290400 [==============================] - 488s 2ms/step - loss: 0.0124 - val_loss: 671.2599\n",
      "Epoch 68/1000\n",
      "290400/290400 [==============================] - 488s 2ms/step - loss: 0.0121 - val_loss: 669.5148\n",
      "Epoch 69/1000\n",
      "290400/290400 [==============================] - 488s 2ms/step - loss: 0.0123 - val_loss: 664.6917\n",
      "Epoch 70/1000\n",
      "290400/290400 [==============================] - 488s 2ms/step - loss: 0.0118 - val_loss: 665.1860\n",
      "Epoch 71/1000\n",
      "290400/290400 [==============================] - 489s 2ms/step - loss: 0.0114 - val_loss: 657.2060\n",
      "Epoch 72/1000\n",
      "290400/290400 [==============================] - 488s 2ms/step - loss: 0.0110 - val_loss: 658.0742\n",
      "Epoch 73/1000\n",
      "290400/290400 [==============================] - 488s 2ms/step - loss: 0.0112 - val_loss: 657.7413\n",
      "Epoch 74/1000\n",
      "290400/290400 [==============================] - 489s 2ms/step - loss: 0.0109 - val_loss: 657.4930\n",
      "Epoch 75/1000\n",
      "290400/290400 [==============================] - 488s 2ms/step - loss: 0.0111 - val_loss: 657.3039\n",
      "Epoch 76/1000\n",
      "290400/290400 [==============================] - 488s 2ms/step - loss: 0.0106 - val_loss: 649.7269\n",
      "Epoch 77/1000\n",
      "290400/290400 [==============================] - 489s 2ms/step - loss: 0.0107 - val_loss: 648.0671\n",
      "Epoch 78/1000\n",
      "290400/290400 [==============================] - 488s 2ms/step - loss: 0.0102 - val_loss: 648.8086\n",
      "Epoch 79/1000\n",
      "290400/290400 [==============================] - 488s 2ms/step - loss: 0.0101 - val_loss: 646.5426\n",
      "Epoch 80/1000\n",
      "290400/290400 [==============================] - 489s 2ms/step - loss: 0.0097 - val_loss: 645.2781\n",
      "Epoch 81/1000\n",
      "290400/290400 [==============================] - 488s 2ms/step - loss: 0.0101 - val_loss: 645.2511\n",
      "Epoch 82/1000\n",
      "290400/290400 [==============================] - 489s 2ms/step - loss: 0.0096 - val_loss: 641.2114\n",
      "Epoch 83/1000\n",
      "290400/290400 [==============================] - 491s 2ms/step - loss: 0.0095 - val_loss: 639.6993\n",
      "Epoch 84/1000\n",
      "290400/290400 [==============================] - 491s 2ms/step - loss: 0.0093 - val_loss: 639.3145\n",
      "Epoch 85/1000\n",
      "290400/290400 [==============================] - 490s 2ms/step - loss: 0.0099 - val_loss: 637.0300\n",
      "Epoch 86/1000\n",
      "290400/290400 [==============================] - 492s 2ms/step - loss: 0.0094 - val_loss: 632.7292\n",
      "Epoch 87/1000\n",
      "290400/290400 [==============================] - 492s 2ms/step - loss: 0.0092 - val_loss: 634.7633\n",
      "Epoch 88/1000\n",
      "290400/290400 [==============================] - 490s 2ms/step - loss: 0.0090 - val_loss: 635.4510\n",
      "Epoch 89/1000\n",
      "290400/290400 [==============================] - 491s 2ms/step - loss: 0.0089 - val_loss: 634.8629\n",
      "Epoch 90/1000\n",
      "290400/290400 [==============================] - 494s 2ms/step - loss: 0.0088 - val_loss: 630.9656\n",
      "Epoch 91/1000\n",
      "290400/290400 [==============================] - 493s 2ms/step - loss: 0.0085 - val_loss: 628.9823\n",
      "Epoch 92/1000\n",
      "290400/290400 [==============================] - 491s 2ms/step - loss: 0.0086 - val_loss: 626.3316\n",
      "Epoch 93/1000\n",
      "290400/290400 [==============================] - 491s 2ms/step - loss: 0.0085 - val_loss: 628.1200\n",
      "Epoch 94/1000\n",
      "290400/290400 [==============================] - 490s 2ms/step - loss: 0.0085 - val_loss: 623.7679\n",
      "Epoch 95/1000\n",
      "290400/290400 [==============================] - 492s 2ms/step - loss: 0.0084 - val_loss: 624.9813\n",
      "Epoch 96/1000\n",
      "290400/290400 [==============================] - 490s 2ms/step - loss: 0.0083 - val_loss: 622.9619\n",
      "Epoch 97/1000\n",
      "290400/290400 [==============================] - 489s 2ms/step - loss: 0.0083 - val_loss: 620.2224\n",
      "Epoch 98/1000\n",
      "290400/290400 [==============================] - 489s 2ms/step - loss: 0.0081 - val_loss: 620.7503\n",
      "Epoch 99/1000\n",
      "290400/290400 [==============================] - 488s 2ms/step - loss: 0.0080 - val_loss: 619.2111\n",
      "Epoch 100/1000\n",
      "290400/290400 [==============================] - 488s 2ms/step - loss: 0.0079 - val_loss: 619.4114\n",
      "Epoch 101/1000\n",
      "290400/290400 [==============================] - 489s 2ms/step - loss: 0.0080 - val_loss: 616.5941\n",
      "Epoch 102/1000\n",
      "290400/290400 [==============================] - 490s 2ms/step - loss: 0.0079 - val_loss: 616.4502\n",
      "Epoch 103/1000\n",
      "290400/290400 [==============================] - 488s 2ms/step - loss: 0.0077 - val_loss: 611.9660\n",
      "Epoch 104/1000\n",
      "290400/290400 [==============================] - 489s 2ms/step - loss: 0.0076 - val_loss: 610.7812\n",
      "Epoch 105/1000\n",
      "290400/290400 [==============================] - 488s 2ms/step - loss: 0.0076 - val_loss: 613.2992\n",
      "Epoch 106/1000\n",
      "290400/290400 [==============================] - 488s 2ms/step - loss: 0.0074 - val_loss: 610.9663\n",
      "Epoch 107/1000\n",
      "290400/290400 [==============================] - 489s 2ms/step - loss: 0.0075 - val_loss: 611.3568\n",
      "Epoch 108/1000\n",
      "290400/290400 [==============================] - 488s 2ms/step - loss: 0.0075 - val_loss: 611.0717\n",
      "Epoch 109/1000\n",
      "290400/290400 [==============================] - 488s 2ms/step - loss: 0.0073 - val_loss: 609.7178\n",
      "Epoch 110/1000\n",
      "290400/290400 [==============================] - 489s 2ms/step - loss: 0.0073 - val_loss: 605.8098\n",
      "Epoch 111/1000\n",
      "290400/290400 [==============================] - 488s 2ms/step - loss: 0.0072 - val_loss: 608.5444\n",
      "Epoch 112/1000\n",
      "290400/290400 [==============================] - 488s 2ms/step - loss: 0.0072 - val_loss: 604.2817\n",
      "Epoch 113/1000\n",
      "290400/290400 [==============================] - 490s 2ms/step - loss: 0.0073 - val_loss: 605.7736\n",
      "Epoch 114/1000\n",
      "290400/290400 [==============================] - 488s 2ms/step - loss: 0.0071 - val_loss: 602.7931\n",
      "Epoch 115/1000\n",
      "290400/290400 [==============================] - 488s 2ms/step - loss: 0.0070 - val_loss: 600.2072\n",
      "Epoch 116/1000\n",
      "290400/290400 [==============================] - 488s 2ms/step - loss: 0.0069 - val_loss: 603.2543\n",
      "Epoch 117/1000\n",
      "290400/290400 [==============================] - 488s 2ms/step - loss: 0.0068 - val_loss: 600.8250\n",
      "Epoch 118/1000\n",
      "290400/290400 [==============================] - 488s 2ms/step - loss: 0.0068 - val_loss: 600.8219\n",
      "Epoch 119/1000\n",
      "290400/290400 [==============================] - 488s 2ms/step - loss: 0.0068 - val_loss: 597.7254\n",
      "Epoch 120/1000\n",
      "290400/290400 [==============================] - 488s 2ms/step - loss: 0.0067 - val_loss: 602.1348\n",
      "Epoch 121/1000\n",
      "290400/290400 [==============================] - 488s 2ms/step - loss: 0.0067 - val_loss: 598.0190\n",
      "Epoch 122/1000\n",
      "290400/290400 [==============================] - 488s 2ms/step - loss: 0.0066 - val_loss: 597.3193\n",
      "Epoch 123/1000\n",
      "290400/290400 [==============================] - 489s 2ms/step - loss: 0.0066 - val_loss: 596.5143\n",
      "Epoch 124/1000\n",
      "290400/290400 [==============================] - 488s 2ms/step - loss: 0.0065 - val_loss: 595.7494\n",
      "Epoch 125/1000\n",
      "290400/290400 [==============================] - 488s 2ms/step - loss: 0.0064 - val_loss: 598.8586\n",
      "Epoch 126/1000\n",
      "290400/290400 [==============================] - 488s 2ms/step - loss: 0.0064 - val_loss: 593.6870\n",
      "Epoch 127/1000\n",
      "290400/290400 [==============================] - 488s 2ms/step - loss: 0.0063 - val_loss: 591.7446\n",
      "Epoch 128/1000\n",
      "290400/290400 [==============================] - 488s 2ms/step - loss: 0.0063 - val_loss: 590.9429\n",
      "Epoch 129/1000\n",
      "290400/290400 [==============================] - 489s 2ms/step - loss: 0.0063 - val_loss: 589.8302\n",
      "Epoch 130/1000\n",
      "290400/290400 [==============================] - 488s 2ms/step - loss: 0.0062 - val_loss: 592.3244\n",
      "Epoch 131/1000\n",
      "290400/290400 [==============================] - 488s 2ms/step - loss: 0.0062 - val_loss: 588.7346\n",
      "Epoch 132/1000\n",
      "290400/290400 [==============================] - 488s 2ms/step - loss: 0.0061 - val_loss: 591.9409\n",
      "Epoch 133/1000\n",
      "290400/290400 [==============================] - 488s 2ms/step - loss: 0.0060 - val_loss: 590.7858\n",
      "Epoch 134/1000\n",
      "290400/290400 [==============================] - 489s 2ms/step - loss: 0.0059 - val_loss: 588.3007\n",
      "Epoch 135/1000\n",
      "290400/290400 [==============================] - 491s 2ms/step - loss: 0.0059 - val_loss: 588.4774\n",
      "Epoch 136/1000\n",
      "290400/290400 [==============================] - 490s 2ms/step - loss: 0.0059 - val_loss: 588.3336\n",
      "Epoch 137/1000\n",
      "290400/290400 [==============================] - 491s 2ms/step - loss: 0.0058 - val_loss: 587.8440\n",
      "Epoch 138/1000\n",
      "290400/290400 [==============================] - 491s 2ms/step - loss: 0.0058 - val_loss: 586.3630\n",
      "Epoch 139/1000\n",
      "290400/290400 [==============================] - 488s 2ms/step - loss: 0.0058 - val_loss: 586.8951\n",
      "Epoch 140/1000\n",
      "290400/290400 [==============================] - 488s 2ms/step - loss: 0.0057 - val_loss: 586.6439\n",
      "Epoch 141/1000\n"
     ]
    },
    {
     "name": "stdout",
     "output_type": "stream",
     "text": [
      "290400/290400 [==============================] - 488s 2ms/step - loss: 0.0056 - val_loss: 585.6789\n",
      "Epoch 142/1000\n",
      "137728/290400 [=============>................] - ETA: 4:04 - loss: 0.0056"
     ]
    }
   ],
   "source": [
    "train_history = model.fit(\n",
    "    x=[x_train,y_train],\n",
    "    y=dummy_gt_train,    \n",
    "    batch_size=batch_size,\n",
    "    epochs=epochs, \n",
    "    validation_data=([x_test, y_test], dummy_gt_val),\n",
    "    callbacks=callbacks_list)"
   ]
  },
  {
   "cell_type": "code",
   "execution_count": null,
   "metadata": {},
   "outputs": [],
   "source": [
    "time_taken = time.perf_counter() - start\n",
    "print(\"Need \", time_taken, \"seconds to train a model, which is\")\n",
    "print(time_taken/3600, \"hours\")"
   ]
  },
  {
   "cell_type": "code",
   "execution_count": null,
   "metadata": {},
   "outputs": [],
   "source": [
    "model.save(\"trip_Ost_\"+str(mN)+\".h5\")"
   ]
  },
  {
   "cell_type": "code",
   "execution_count": null,
   "metadata": {},
   "outputs": [],
   "source": [
    "%matplotlib inline\n",
    "plt.plot(train_history.history['loss'], label='train loss')\n",
    "plt.plot(train_history.history['val_loss'], label='validation loss')\n",
    "plt.legend()\n",
    "plt.title('Train/Validation loss')\n",
    "plt.ylabel('Loss')\n",
    "plt.xlabel('Epoch')\n",
    "plt.show()"
   ]
  },
  {
   "cell_type": "code",
   "execution_count": null,
   "metadata": {},
   "outputs": [],
   "source": [
    "testing_embeddings = create_base_network2(input_image_shape,embedding_size=embedding_size)\n",
    "#testing_embeddings = create_base_network3(input_image_shape,embedding_size=embedding_size)"
   ]
  },
  {
   "cell_type": "code",
   "execution_count": null,
   "metadata": {},
   "outputs": [],
   "source": [
    "for layer_target, layer_source in zip(testing_embeddings.layers, model.layers[2].layers):\n",
    "    weights = layer_source.get_weights()\n",
    "    layer_target.set_weights(weights)\n",
    "    del weights"
   ]
  },
  {
   "cell_type": "code",
   "execution_count": null,
   "metadata": {},
   "outputs": [],
   "source": [
    "testing_embeddings.save(\"tripOst_\"+str(mN)+\".h5\")    \n",
    "model2 = load_model(\"tripOst_\"+str(mN)+\".h5\")"
   ]
  },
  {
   "cell_type": "code",
   "execution_count": null,
   "metadata": {},
   "outputs": [],
   "source": [
    "#onnx_model = keras2onnx.convert_keras(model2, model2.name,target_opset=7)\n",
    "#onnx.save_model(onnx_model, \"Trmodel-2_\"+str(mN)+\".onnx\")"
   ]
  },
  {
   "cell_type": "code",
   "execution_count": null,
   "metadata": {},
   "outputs": [],
   "source": [
    "x_train_embeddings = testing_embeddings.predict(np.reshape(x_train, (len(x_train), picSize, picSize, 1)))\n",
    "x_train_emb=np.array(x_train_embeddings)\n",
    "dtrain = xgb.DMatrix(x_train_emb, np.array(y_train))"
   ]
  },
  {
   "cell_type": "code",
   "execution_count": null,
   "metadata": {},
   "outputs": [],
   "source": [
    "x_test_embeddings = testing_embeddings.predict(np.reshape(x_test, (len(x_test), picSize, picSize, 1)))\n",
    "x_test_emb=np.array(x_test_embeddings)\n",
    "dtest = xgb.DMatrix(x_test_emb, np.array(y_test))"
   ]
  },
  {
   "cell_type": "code",
   "execution_count": null,
   "metadata": {},
   "outputs": [],
   "source": [
    "params ={'eta': 0.1,\n",
    "      'max_depth': 20, #5 predict ability is related to max_depth\n",
    "      'num_boost_round':20,\n",
    "      'objective': 'multi:softmax',\n",
    "      'random_state': 27,\n",
    "      'num_class':classN}"
   ]
  },
  {
   "cell_type": "code",
   "execution_count": null,
   "metadata": {},
   "outputs": [],
   "source": [
    "watchlist = [(dtrain, 'train'), (dtest, 'valid')]\n",
    "model4 = xgb.train(params, dtrain, 1000, watchlist, early_stopping_rounds=1000, verbose_eval=100)"
   ]
  },
  {
   "cell_type": "code",
   "execution_count": null,
   "metadata": {},
   "outputs": [],
   "source": [
    "model4.save_model(\"Trmodel_\"+str(mN)+\".model\")  \n",
    "model4.dump_model(\"Trmodel_\"+'xgb.'+str(mN)+'.model.dump', fmap='', with_stats=True)"
   ]
  },
  {
   "cell_type": "code",
   "execution_count": null,
   "metadata": {},
   "outputs": [],
   "source": [
    "preds_tr = model4.predict(xgb.DMatrix(x_train_emb))"
   ]
  },
  {
   "cell_type": "code",
   "execution_count": null,
   "metadata": {},
   "outputs": [],
   "source": [
    "pred_sc_tr=accuracy_score(preds_tr, np.array(y_train))\n",
    "print(\"Training accuracy = \", pred_sc_tr)"
   ]
  },
  {
   "cell_type": "code",
   "execution_count": null,
   "metadata": {},
   "outputs": [],
   "source": [
    "preds_test = model4.predict(xgb.DMatrix(x_test_emb))"
   ]
  },
  {
   "cell_type": "code",
   "execution_count": null,
   "metadata": {},
   "outputs": [],
   "source": [
    "pred_sc_test=accuracy_score(preds_test, np.array(y_test))\n",
    "print(\"Testing accuracy = \",pred_sc_test)"
   ]
  },
  {
   "cell_type": "code",
   "execution_count": null,
   "metadata": {},
   "outputs": [],
   "source": [
    "endtime = time.localtime(time.time())\n",
    "print(\"starttime:\", starttime) \n",
    "print(\"endtime:\", endtime)"
   ]
  },
  {
   "cell_type": "code",
   "execution_count": null,
   "metadata": {},
   "outputs": [],
   "source": []
  },
  {
   "cell_type": "code",
   "execution_count": null,
   "metadata": {},
   "outputs": [],
   "source": []
  }
 ],
 "metadata": {
  "kernelspec": {
   "display_name": "Python 3",
   "language": "python",
   "name": "python3"
  },
  "language_info": {
   "codemirror_mode": {
    "name": "ipython",
    "version": 3
   },
   "file_extension": ".py",
   "mimetype": "text/x-python",
   "name": "python",
   "nbconvert_exporter": "python",
   "pygments_lexer": "ipython3",
   "version": "3.7.7"
  }
 },
 "nbformat": 4,
 "nbformat_minor": 2
}
